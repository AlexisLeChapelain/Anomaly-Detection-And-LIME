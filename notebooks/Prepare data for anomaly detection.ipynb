{
 "cells": [
  {
   "cell_type": "code",
   "execution_count": 1,
   "metadata": {},
   "outputs": [],
   "source": [
    "import sys \n",
    "\n",
    "import numpy as np\n",
    "import pandas as pd\n",
    "import seaborn as sns\n",
    "import matplotlib.pyplot as plt\n",
    "from sklearn import preprocessing\n",
    "import warnings\n",
    "warnings.filterwarnings(\"ignore\")"
   ]
  },
  {
   "cell_type": "code",
   "execution_count": 2,
   "metadata": {},
   "outputs": [],
   "source": [
    "sys.path.append(\"/Users/az02234/Documents/Projet_AC/AnomalyDetectionAndLIME/\")"
   ]
  },
  {
   "cell_type": "code",
   "execution_count": 3,
   "metadata": {},
   "outputs": [],
   "source": [
    "raw_data_path = \"/Users/az02234/Documents/Projet_AC/AnomalyDetectionAndLIME/data/raw/\"\n",
    "processed_data_path = \"/Users/az02234/Documents/Projet_AC/AnomalyDetectionAndLIME/data/processed/\""
   ]
  },
  {
   "cell_type": "code",
   "execution_count": 4,
   "metadata": {},
   "outputs": [],
   "source": [
    "df = pd.read_excel(raw_data_path+\"C-Extraction_SMACC_MOP_FC_avec_marques 2017 Confidentiel B.xls\")"
   ]
  },
  {
   "cell_type": "code",
   "execution_count": 5,
   "metadata": {},
   "outputs": [],
   "source": [
    "# remove empty columns\n",
    "df.drop([\"Contribution commerciale pays Pièces_signé\",\n",
    "    \"Contribution commerciale pays Accessoires_signé\",\n",
    "    \"CA Pièces_signé\",\n",
    "    \"CA Accessoires_signé\",\n",
    "    \"CDV Pièces_signé\",\n",
    "    \"CDV Accessoires_signé\",\n",
    "    \"MCx fixes pays Pièces_signé\",\n",
    "    \"MCx fixes pays Accessoires_signé\",\n",
    "    \"MCx variables pays Pièces_signé\",\n",
    "    \"MCx variables pays Accessoires_signé\",\n",
    "    \"MCx fixes région Pièces_signé\",\n",
    "    \"MCx fixes région Accessoires_signé\",\n",
    "    \"Actualisation et raccord Pièces_signé\",\n",
    "    \"Actualisation et raccord Accessoires_signé\",\n",
    "    \"MCx fixes centraux Pièces_signé\",\n",
    "    \"MCx fixes centraux Accessoires_signé\",\n",
    "    \"CA R&D hors reprises de PCA_signé\",\n",
    "    \"MOP Prestation de services_signé\",\n",
    "    \"MAC Frais généraux Services_signé\",\n",
    "    \"Raccord Services_signé\",\n",
    "    \"Autres frais commerciaux centraux - Commerce_signé\",\n",
    "    \"KPI B3 Monde_signé\",\n",
    "    \"EV Business Margin_signé\",\n",
    "    \"Cash Payment_signé.1\",\n",
    "    \"Cash Payment_signé\",\n",
    "    \"CA Avtovaz_signé\",\n",
    "    \"Retraitement PSS P&A_signé\",\n",
    "    \"R&D non affectée - Sites centraux_signé\",\n",
    "    \"Passage MAC à MOP RCI part RSI_signé\"], axis = 1, inplace = True)"
   ]
  },
  {
   "cell_type": "code",
   "execution_count": 6,
   "metadata": {},
   "outputs": [],
   "source": [
    "# remove useless keys\n",
    "df.drop(columns=[\"Année\"], inplace = True)"
   ]
  },
  {
   "cell_type": "code",
   "execution_count": 7,
   "metadata": {},
   "outputs": [],
   "source": [
    "# Recode categorical features with numerical values\n",
    "categorical_names = {}\n",
    "for feature in [\"Marché\", \"Produit\", \"Numéro Mois Période\"]:\n",
    "    le = preprocessing.LabelEncoder()\n",
    "    le.fit(df.loc[:, feature])\n",
    "    df.loc[:, feature] = le.transform(df.loc[:, feature])\n",
    "    categorical_names[feature] = le.classes_"
   ]
  },
  {
   "cell_type": "code",
   "execution_count": 8,
   "metadata": {},
   "outputs": [
    {
     "name": "stdout",
     "output_type": "stream",
     "text": [
      "There is 117 columns and 44842 observations in the df dataset\n",
      "There is 104 columns and 44842 observations in the df_num dataset\n"
     ]
    }
   ],
   "source": [
    "# Create a dataset with only numerical values, and without missing values\n",
    "print(\"There is {} columns and {} observations in the df dataset\".format(df.shape[1], df.shape[0]))\n",
    "numerics = [\"int64\",\"float64\"]\n",
    "df_numeric = df.select_dtypes(include=numerics)\n",
    "df_numeric.dropna(inplace = True, axis = 1)\n",
    "print(\"There is {} columns and {} observations in the df_num dataset\".format(df_numeric.shape[1], df_numeric.shape[0]))"
   ]
  },
  {
   "cell_type": "code",
   "execution_count": 9,
   "metadata": {},
   "outputs": [],
   "source": [
    "# Create a dataframe for the isolation forest by removing the keys \"Marché\", \"Produit\", \"Numéro Mois Période\"\n",
    "df_anomaly = df_numeric.drop(columns=[\"Marché\", \"Produit\", \"Numéro Mois Période\"])"
   ]
  },
  {
   "cell_type": "code",
   "execution_count": 10,
   "metadata": {},
   "outputs": [],
   "source": [
    "df_anomaly.to_csv(processed_data_path+\"df_anomaly.csv\")\n",
    "df_numeric.to_csv(processed_data_path+\"df_numeric.csv\")"
   ]
  }
 ],
 "metadata": {
  "kernelspec": {
   "display_name": "Python 3",
   "language": "python",
   "name": "python3"
  },
  "language_info": {
   "codemirror_mode": {
    "name": "ipython",
    "version": 3
   },
   "file_extension": ".py",
   "mimetype": "text/x-python",
   "name": "python",
   "nbconvert_exporter": "python",
   "pygments_lexer": "ipython3",
   "version": "3.6.5"
  }
 },
 "nbformat": 4,
 "nbformat_minor": 2
}
