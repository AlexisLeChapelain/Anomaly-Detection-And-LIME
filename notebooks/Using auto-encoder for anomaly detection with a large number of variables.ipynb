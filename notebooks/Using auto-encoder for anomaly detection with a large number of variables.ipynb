{
 "cells": [
  {
   "cell_type": "markdown",
   "metadata": {},
   "source": [
    "## Using auto-encoder for anomaly detection with a large number of variables"
   ]
  },
  {
   "cell_type": "markdown",
   "metadata": {},
   "source": [
    "### Load data and packages"
   ]
  },
  {
   "cell_type": "code",
   "execution_count": 5,
   "metadata": {},
   "outputs": [],
   "source": [
    "import warnings\n",
    "warnings.filterwarnings(\"ignore\")\n",
    "from datetime import datetime \n",
    "import os\n",
    "\n",
    "import tensorflow as tf\n",
    "import numpy as np\n",
    "import matplotlib.pyplot as plt\n",
    "import pandas as pd"
   ]
  },
  {
   "cell_type": "code",
   "execution_count": 6,
   "metadata": {},
   "outputs": [],
   "source": [
    "processed_data_path = \"/Users/az02234/Documents/Projet_AC/AnomalyDetectionAndLIME/data/processed/\""
   ]
  },
  {
   "cell_type": "code",
   "execution_count": 7,
   "metadata": {},
   "outputs": [],
   "source": [
    "# Put the data here \n",
    "df_numeric = pd.read_csv(processed_data_path+\"df_numeric.csv\")\n",
    "df_anomaly = pd.read_csv(processed_data_path+\"df_anomaly.csv\")"
   ]
  },
  {
   "cell_type": "markdown",
   "metadata": {},
   "source": [
    "### Data preprocessing"
   ]
  },
  {
   "cell_type": "code",
   "execution_count": 8,
   "metadata": {},
   "outputs": [
    {
     "name": "stdout",
     "output_type": "stream",
     "text": [
      "(44842, 102)\n"
     ]
    }
   ],
   "source": [
    "# From pandas dataframe to array\n",
    "df_anomaly_array = np.array(df_anomaly)\n",
    "print(df_anomaly.shape)"
   ]
  },
  {
   "cell_type": "code",
   "execution_count": 9,
   "metadata": {},
   "outputs": [],
   "source": [
    "# Remove invariant array\n",
    "list_invariant_array = []\n",
    "for c in range(df_anomaly_array.shape[1]):\n",
    "    if df_anomaly_array[:,c].std()==0:\n",
    "        list_invariant_array.append(c)\n",
    "df_anomaly_array = np.delete(df_anomaly_array, list_invariant_array, 1)"
   ]
  },
  {
   "cell_type": "code",
   "execution_count": 10,
   "metadata": {},
   "outputs": [],
   "source": [
    "# Normalize data by removing mean and dividing by standard deviation\n",
    "cols_mean = []\n",
    "cols_std = []\n",
    "for c in range(df_anomaly_array.shape[1]):\n",
    "    cols_mean.append(df_anomaly_array[:,c].mean())\n",
    "    cols_std.append(df_anomaly_array[:,c].std())\n",
    "    df_anomaly_array[:, c] = (df_anomaly_array[:, c] - cols_mean[-1]) / cols_std[-1]"
   ]
  },
  {
   "cell_type": "markdown",
   "metadata": {},
   "source": [
    "### Train auto-encoder"
   ]
  },
  {
   "cell_type": "markdown",
   "metadata": {},
   "source": [
    "#### Set parameters"
   ]
  },
  {
   "cell_type": "code",
   "execution_count": 17,
   "metadata": {},
   "outputs": [],
   "source": [
    "# Parameters\n",
    "learning_rate = 0.001\n",
    "training_epochs = 301\n",
    "batch_size = 256\n",
    "display_step = 20\n",
    " \n",
    "# Network Parameters\n",
    "n_hidden_1 = 15 # 1st layer num features\n",
    "n_hidden_2 = 8 # 2nd layer num features\n",
    "n_input = df_anomaly_array.shape[1] # number of columns of df_anomaly here as our feature dimension"
   ]
  },
  {
   "cell_type": "markdown",
   "metadata": {},
   "source": [
    "#### Build neural network model"
   ]
  },
  {
   "cell_type": "code",
   "execution_count": 18,
   "metadata": {},
   "outputs": [],
   "source": [
    "# Set variable for input data\n",
    "X = tf.placeholder(\"float\", [None, n_input])\n",
    " \n",
    "# Setting variables for bias and weight\n",
    "weights = {\n",
    "    'encoder_h1': tf.Variable(tf.random_normal([n_input, n_hidden_1])),\n",
    "    'encoder_h2': tf.Variable(tf.random_normal([n_hidden_1, n_hidden_2])),\n",
    "    'decoder_h1': tf.Variable(tf.random_normal([n_hidden_2, n_hidden_1])),\n",
    "    'decoder_h2': tf.Variable(tf.random_normal([n_hidden_1, n_input])),\n",
    "}\n",
    "biases = {\n",
    "    'encoder_b1': tf.Variable(tf.random_normal([n_hidden_1])),\n",
    "    'encoder_b2': tf.Variable(tf.random_normal([n_hidden_2])),\n",
    "    'decoder_b1': tf.Variable(tf.random_normal([n_hidden_1])),\n",
    "    'decoder_b2': tf.Variable(tf.random_normal([n_input])),\n",
    "}\n",
    "\n",
    "# Building the encoder\n",
    "def encoder(x):\n",
    "    # Encoder Hidden layer with tanh activation #1\n",
    "    layer_1 = tf.nn.tanh(tf.add(tf.matmul(x, weights['encoder_h1']), biases['encoder_b1']))\n",
    "    # Encoder Hidden layer with tanh activation #2\n",
    "    layer_2 = tf.nn.tanh(tf.add(tf.matmul(layer_1, weights['encoder_h2']), biases['encoder_b2']))\n",
    "    return layer_2\n",
    " \n",
    "# Building the decoder\n",
    "def decoder(x):\n",
    "    # Decoder Hidden layer with tanh activation #1\n",
    "    layer_1 = tf.nn.tanh(tf.add(tf.matmul(x, weights['decoder_h1']), biases['decoder_b1']))\n",
    "    # Decoder Hidden layer with tanh activation #2\n",
    "    layer_2 = tf.nn.tanh(tf.add(tf.matmul(layer_1, weights['decoder_h2']), biases['decoder_b2']))\n",
    "    return layer_2\n",
    " \n",
    "# Construct model\n",
    "encoder_op = encoder(X)\n",
    "decoder_op = decoder(encoder_op)\n",
    " \n",
    "# Prediction\n",
    "y_pred = decoder_op\n",
    "# Targets (Labels) are the input data.\n",
    "y_true = X\n",
    " \n",
    "# Define batch mse\n",
    "batch_mse = tf.reduce_mean(tf.pow(y_true - y_pred, 2), 1)\n",
    " \n",
    "# Define raw error layer\n",
    "batch_error_layer = y_true - y_pred\n",
    " \n",
    "# Define loss and optimizer, minimize the squared error\n",
    "cost = tf.reduce_mean(tf.pow(y_true - y_pred, 2))\n",
    "optimizer = tf.train.RMSPropOptimizer(learning_rate).minimize(cost)"
   ]
  },
  {
   "cell_type": "markdown",
   "metadata": {},
   "source": [
    "#### Train neural network"
   ]
  },
  {
   "cell_type": "code",
   "execution_count": 19,
   "metadata": {},
   "outputs": [
    {
     "name": "stdout",
     "output_type": "stream",
     "text": [
      "Epoch: 0001 cost by batch= 1.601939797 Total cost 1.640231490 Time elapsed= 0:00:00.593034\n",
      "Epoch: 0021 cost by batch= 4.025578499 Total cost 0.984571159 Time elapsed= 0:00:08.244440\n",
      "Epoch: 0041 cost by batch= 0.548508763 Total cost 0.944427013 Time elapsed= 0:00:15.816697\n",
      "Epoch: 0061 cost by batch= 0.929337502 Total cost 0.932870924 Time elapsed= 0:00:23.295508\n",
      "Epoch: 0081 cost by batch= 0.180308998 Total cost 0.917328238 Time elapsed= 0:00:30.869195\n",
      "Epoch: 0101 cost by batch= 0.134807184 Total cost 0.904805481 Time elapsed= 0:00:38.275296\n",
      "Epoch: 0121 cost by batch= 1.794776201 Total cost 0.883902609 Time elapsed= 0:00:45.881977\n",
      "Epoch: 0141 cost by batch= 0.463929176 Total cost 0.882456899 Time elapsed= 0:00:53.336539\n",
      "Epoch: 0161 cost by batch= 0.165341109 Total cost 0.881340921 Time elapsed= 0:01:00.780946\n",
      "Epoch: 0181 cost by batch= 0.478031725 Total cost 0.880533099 Time elapsed= 0:01:07.151727\n",
      "Epoch: 0201 cost by batch= 1.024337292 Total cost 0.871120632 Time elapsed= 0:01:13.521396\n",
      "Epoch: 0221 cost by batch= 0.738444686 Total cost 0.870510936 Time elapsed= 0:01:20.120969\n",
      "Epoch: 0241 cost by batch= 0.756760597 Total cost 0.869907260 Time elapsed= 0:01:27.870479\n",
      "Epoch: 0261 cost by batch= 0.714002728 Total cost 0.869520724 Time elapsed= 0:01:34.609927\n",
      "Epoch: 0281 cost by batch= 0.943842590 Total cost 0.869097352 Time elapsed= 0:01:40.848511\n",
      "Epoch: 0301 cost by batch= 1.519260645 Total cost 0.868754625 Time elapsed= 0:01:48.642406\n",
      "Optimization Finished!\n",
      "Model saved in file: /Users/az02234/Documents/Projet_AC/Data_SMACC/temp_saved_model_1layer.ckpt\n"
     ]
    },
    {
     "data": {
      "text/plain": [
       "<matplotlib.axes._subplots.AxesSubplot at 0x1479fee10>"
      ]
     },
     "execution_count": 19,
     "metadata": {},
     "output_type": "execute_result"
    },
    {
     "data": {
      "image/png": "[encoded data removed]",
      "text/plain": [
       "<Figure size 432x288 with 1 Axes>"
      ]
     },
     "metadata": {},
     "output_type": "display_data"
    }
   ],
   "source": [
    "# TRAIN STARTS\n",
    "save_model = '/Users/az02234/Documents/Projet_AC/Data_SMACC/temp_saved_model_1layer.ckpt'\n",
    "saver = tf.train.Saver()\n",
    "\n",
    "# Initializing the variables\n",
    "init = tf.global_variables_initializer()\n",
    "\n",
    "total_error_sequence = []\n",
    "batch_error_sequence = []\n",
    "\n",
    "with tf.Session() as sess:\n",
    "    now = datetime.now()\n",
    "    sess.run(init)\n",
    "    total_batch = int(df_anomaly_array.shape[0]/batch_size)\n",
    "    # Training cycle\n",
    "    for epoch in range(training_epochs):\n",
    "        # Loop over all batches\n",
    "        for i in range(total_batch):\n",
    "            batch_idx = np.random.choice(df_anomaly_array.shape[0], batch_size)\n",
    "            batch_xs = df_anomaly_array[batch_idx]\n",
    "            # Run optimization op (backprop) and cost op (to get loss value)\n",
    "            _, c = sess.run([optimizer, cost], feed_dict={X: batch_xs})\n",
    "            \n",
    "        # Display logs per epoch step\n",
    "        if epoch % display_step == 0:\n",
    "            totalcost = sess.run(cost, feed_dict={X: df_anomaly_array})\n",
    "            print(\"Epoch:\", '%04d' % (epoch+1),\n",
    "                  \"cost by batch=\", \"{:.9f}\".format(c), \n",
    "                  \"Total cost {:.9f}\".format(totalcost),\n",
    "                  \"Time elapsed=\", \"{}\".format(datetime.now() - now))\n",
    "            batch_error_sequence.append(c)\n",
    "            total_error_sequence.append(totalcost)\n",
    "\n",
    "    print(\"Optimization Finished!\")\n",
    "    \n",
    "    save_path = saver.save(sess, save_model)\n",
    "    print(\"Model saved in file: {}\".format(save_path))\n",
    "\n",
    "    \n",
    "error_series = pd.Series(batch_error_sequence)\n",
    "error_series.plot()\n",
    "\n",
    "error_series = pd.Series(total_error_sequence)\n",
    "error_series.plot()"
   ]
  },
  {
   "cell_type": "markdown",
   "metadata": {},
   "source": [
    "#### Extract anomalies and explain them"
   ]
  },
  {
   "cell_type": "code",
   "execution_count": 22,
   "metadata": {},
   "outputs": [
    {
     "name": "stdout",
     "output_type": "stream",
     "text": [
      "INFO:tensorflow:Restoring parameters from /Users/az02234/Documents/Projet_AC/Data_SMACC/temp_saved_model_1layer.ckpt\n",
      "[0.00633878 0.00587993 0.00588043 0.00588628 0.00587728 0.0058761\n",
      " 0.00587347 0.00587414 0.00587864 0.00595542]\n"
     ]
    }
   ],
   "source": [
    "with tf.Session() as sess:\n",
    "    now = datetime.now()\n",
    "    saver.restore(sess, save_model)\n",
    "    \n",
    "    # return anomaly\n",
    "    anomalies = sess.run(batch_mse, feed_dict={X: df_anomaly_array[0:100]})\n",
    "    \n",
    "print(anomalies[0:10])"
   ]
  },
  {
   "cell_type": "code",
   "execution_count": 17,
   "metadata": {},
   "outputs": [
    {
     "name": "stdout",
     "output_type": "stream",
     "text": [
      "Number of observations:  (44842,)\n",
      "Minimum anomaly value:  9.431222e-05\n",
      "Maximum anomaly value:  833.42554\n",
      "Mean anomaly value:  0.8695386648178101\n",
      "How the data look: \n",
      " 0    0.006475\n",
      "1    0.006397\n",
      "2    0.006382\n",
      "3    0.006364\n",
      "4    0.006410\n",
      "dtype: float32\n"
     ]
    },
    {
     "data": {
      "text/plain": [
       "<matplotlib.axes._subplots.AxesSubplot at 0x1119f8978>"
      ]
     },
     "execution_count": 17,
     "metadata": {},
     "output_type": "execute_result"
    },
    {
     "data": {
      "image/png": "[encoded data removed]",
      "text/plain": [
       "<Figure size 432x288 with 1 Axes>"
      ]
     },
     "metadata": {},
     "output_type": "display_data"
    }
   ],
   "source": [
    "anomaly_series = pd.Series(anomalies)\n",
    "print(\"Number of observations: \", anomaly_series.shape)\n",
    "print(\"Minimum anomaly value: \", anomaly_series.min())\n",
    "print(\"Maximum anomaly value: \", anomaly_series.max())\n",
    "print(\"Mean anomaly value: \",anomaly_series.mean())\n",
    "print(\"How the data look: \\n\", anomaly_series.head())\n",
    "anomaly_series.plot()"
   ]
  },
  {
   "cell_type": "code",
   "execution_count": 34,
   "metadata": {},
   "outputs": [],
   "source": [
    "# classify anomaly\n",
    "anomaly_rate = 0.05\n",
    "anomalies_df = pd.DataFrame(anomalies, columns=[\"anomaly_index\"])\n",
    "anomalies_df = anomalies_df.sort_values(by=\"anomaly_index\")\n",
    "anomalies_df[\"anomaly\"] = 0\n",
    "anomalies_df.iloc[round(anomalies_df.shape[0]*(1-anomaly_rate)):, 1]=1"
   ]
  },
  {
   "cell_type": "code",
   "execution_count": 38,
   "metadata": {},
   "outputs": [
    {
     "name": "stdout",
     "output_type": "stream",
     "text": [
      "       anomaly_index       anomaly\n",
      "count   44842.000000  44842.000000\n",
      "mean        0.869702      0.049998\n",
      "std        13.175756      0.217943\n",
      "min         0.000094      0.000000\n",
      "25%         0.000243      0.000000\n",
      "50%         0.001386      0.000000\n",
      "75%         0.005266      0.000000\n",
      "max       833.425537      1.000000\n",
      "95th percentile 0.40714628994464386\n",
      "99th percentile 14.232559251784448\n"
     ]
    }
   ],
   "source": [
    "print(anomalies_df.describe())\n",
    "print(\"95th percentile\", anomalies_df.anomaly_index.quantile(0.95))\n",
    "print(\"99th percentile\", anomalies_df.anomaly_index.quantile(0.99))"
   ]
  },
  {
   "cell_type": "code",
   "execution_count": null,
   "metadata": {},
   "outputs": [],
   "source": []
  },
  {
   "cell_type": "code",
   "execution_count": null,
   "metadata": {},
   "outputs": [],
   "source": []
  }
 ],
 "metadata": {
  "kernelspec": {
   "display_name": "Python 3",
   "language": "python",
   "name": "python3"
  },
  "language_info": {
   "codemirror_mode": {
    "name": "ipython",
    "version": 3
   },
   "file_extension": ".py",
   "mimetype": "text/x-python",
   "name": "python",
   "nbconvert_exporter": "python",
   "pygments_lexer": "ipython3",
   "version": "3.6.5"
  }
 },
 "nbformat": 4,
 "nbformat_minor": 2
}
